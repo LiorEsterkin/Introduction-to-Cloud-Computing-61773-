{
  "nbformat": 4,
  "nbformat_minor": 0,
  "metadata": {
    "colab": {
      "provenance": [],
      "authorship_tag": "ABX9TyNbgVG8MXM10k8k3ImEd7Vx",
      "include_colab_link": true
    },
    "kernelspec": {
      "name": "python3",
      "display_name": "Python 3"
    },
    "language_info": {
      "name": "python"
    }
  },
  "cells": [
    {
      "cell_type": "markdown",
      "metadata": {
        "id": "view-in-github",
        "colab_type": "text"
      },
      "source": [
        "<a href=\"https://colab.research.google.com/github/LiorEsterkin/Introduction-to-Cloud-Computing-61773-/blob/main/MyFirstColabNotebook.ipynb\" target=\"_parent\"><img src=\"https://colab.research.google.com/assets/colab-badge.svg\" alt=\"Open In Colab\"/></a>"
      ]
    },
    {
      "cell_type": "markdown",
      "source": [
        "# **My First Colab Notebook**\n",
        "first notebook in Introduction to Cloud Computing course (NO. 61773)\n",
        "\n"
      ],
      "metadata": {
        "id": "SgRNZRzbxikQ"
      }
    },
    {
      "cell_type": "code",
      "execution_count": 3,
      "metadata": {
        "colab": {
          "base_uri": "https://localhost:8080/"
        },
        "id": "7j1my9GTwTqI",
        "outputId": "f81549b7-beba-4091-93ca-55ef1237da55"
      },
      "outputs": [
        {
          "output_type": "stream",
          "name": "stdout",
          "text": [
            "Wed Oct 29 07:05:11 2025\n"
          ]
        }
      ],
      "source": [
        "import time\n",
        "print(time.ctime())"
      ]
    },
    {
      "cell_type": "markdown",
      "source": [
        "## Second code cell"
      ],
      "metadata": {
        "id": "lb7o8lE-xzW2"
      }
    },
    {
      "cell_type": "code",
      "source": [
        "print(time.ctime())\n",
        "time.sleep(5)\n",
        "print(time.ctime())"
      ],
      "metadata": {
        "colab": {
          "base_uri": "https://localhost:8080/"
        },
        "id": "yC_fXa5vwafr",
        "outputId": "c663dfb7-f1f1-4b4c-f076-d766d995c1ab"
      },
      "execution_count": 4,
      "outputs": [
        {
          "output_type": "stream",
          "name": "stdout",
          "text": [
            "Wed Oct 29 07:05:11 2025\n",
            "Wed Oct 29 07:05:16 2025\n"
          ]
        }
      ]
    },
    {
      "cell_type": "code",
      "source": [
        "print(\"Hello, world!\")"
      ],
      "metadata": {
        "colab": {
          "base_uri": "https://localhost:8080/"
        },
        "id": "mwwmxqD1ymJ2",
        "outputId": "e0ef56a9-6d4d-4ba5-a2f0-5eac10943a63"
      },
      "execution_count": 5,
      "outputs": [
        {
          "output_type": "stream",
          "name": "stdout",
          "text": [
            "Hello, world!\n"
          ]
        }
      ]
    },
    {
      "cell_type": "markdown",
      "source": [
        "## Another code cell."
      ],
      "metadata": {
        "id": "XJHzXAsH0toy"
      }
    },
    {
      "cell_type": "code",
      "source": [
        "import numpy as np\n",
        "a = np.arange(0,10)\n",
        "print(\"a = \", a)\n",
        "b = np.zeros_like(a)\n",
        "print(\"b = \",b)"
      ],
      "metadata": {
        "colab": {
          "base_uri": "https://localhost:8080/"
        },
        "id": "A8lNHclczFBJ",
        "outputId": "aff78f4a-9a80-47d5-bc91-a522d5b5ca51"
      },
      "execution_count": 13,
      "outputs": [
        {
          "output_type": "stream",
          "name": "stdout",
          "text": [
            "a =  [0 1 2 3 4 5 6 7 8 9]\n",
            "b =  [0 0 0 0 0 0 0 0 0 0]\n"
          ]
        }
      ]
    },
    {
      "cell_type": "markdown",
      "source": [
        "mount google drive and listing notebooks\n"
      ],
      "metadata": {
        "id": "mXgf_24G31a_"
      }
    },
    {
      "cell_type": "code",
      "source": [
        "from google.colab import drive\n",
        "drive.mount('/content/drive')"
      ],
      "metadata": {
        "colab": {
          "base_uri": "https://localhost:8080/"
        },
        "id": "7A0z1FlL1s_n",
        "outputId": "ddd92730-5a54-4de8-e7a8-db18b97ac05f"
      },
      "execution_count": 18,
      "outputs": [
        {
          "output_type": "stream",
          "name": "stdout",
          "text": [
            "Drive already mounted at /content/drive; to attempt to forcibly remount, call drive.mount(\"/content/drive\", force_remount=True).\n"
          ]
        }
      ]
    },
    {
      "cell_type": "code",
      "source": [
        "!ls \"/content/drive/My Drive/Colab Notebooks\""
      ],
      "metadata": {
        "colab": {
          "base_uri": "https://localhost:8080/"
        },
        "id": "jWD8--pf2p4-",
        "outputId": "2b8c856d-6ab3-4222-8e7b-5b9746d33fa4"
      },
      "execution_count": 17,
      "outputs": [
        {
          "output_type": "stream",
          "name": "stdout",
          "text": [
            "freecodecamp.ipynb\t    Untitled0.ipynb  Untitled2.ipynb\n",
            "MyFirstColabNotebook.ipynb  Untitled1.ipynb  Untitled3.ipynb\n"
          ]
        }
      ]
    },
    {
      "cell_type": "markdown",
      "source": [
        "Graphical output"
      ],
      "metadata": {
        "id": "w81WqRuo4tRh"
      }
    },
    {
      "cell_type": "code",
      "source": [
        "import numpy as np\n",
        "from matplotlib import pyplot as plt\n",
        "\n",
        "y = np.random.randn(100)\n",
        "\n",
        "x = [x for x in range(len(y))]\n",
        "\n",
        "plt.plot(x, y, '-')\n",
        "plt.fill_between(x, y, 3, where = (y > 0), facecolor='g', alpha=0.6)\n",
        "\n",
        "plt.title(\"Sample Plot\")\n",
        "plt.show()\n"
      ],
      "metadata": {
        "colab": {
          "base_uri": "https://localhost:8080/",
          "height": 452
        },
        "id": "-wPT6xcK41Hu",
        "outputId": "e8ad4703-ef60-46c7-ef2c-7d24a3ef5a2e"
      },
      "execution_count": 23,
      "outputs": [
        {
          "output_type": "display_data",
          "data": {
            "text/plain": [
              "<Figure size 640x480 with 1 Axes>"
            ],
            "image/png": "[encoded data removed]"
          },
          "metadata": {}
        }
      ]
    },
    {
      "cell_type": "markdown",
      "source": [
        "## Form cell\n",
        "Example for form cell in colab notebook.\n"
      ],
      "metadata": {
        "id": "N1Q1yPXk7OAB"
      }
    },
    {
      "cell_type": "code",
      "source": [
        "# @title Default title text\n",
        "name = \"aa\" # @param {\"type\":\"string\"}\n",
        "age = 34 # @param {\"type\":\"slider\",\"min\":0,\"max\":100,\"step\":1}\n",
        "dropdown = \"yes\" # @param [\"yes\",\"no\",\"maybe\"]\n",
        "# @markdown Markdown?\n"
      ],
      "metadata": {
        "id": "fhoTr8cJ6dAT"
      },
      "execution_count": 30,
      "outputs": []
    },
    {
      "cell_type": "code",
      "source": [
        "print(name, age)"
      ],
      "metadata": {
        "colab": {
          "base_uri": "https://localhost:8080/"
        },
        "id": "VLsrcaOs8C-n",
        "outputId": "659e23e9-ce1b-443e-bb5f-558096f00562"
      },
      "execution_count": 31,
      "outputs": [
        {
          "output_type": "stream",
          "name": "stdout",
          "text": [
            "aa 34\n"
          ]
        }
      ]
    },
    {
      "cell_type": "markdown",
      "source": [
        "##Complete form example\n",
        "\n",
        "with html and css"
      ],
      "metadata": {
        "id": "yXb-4seC8s_G"
      }
    },
    {
      "cell_type": "code",
      "source": [
        "#@title Default title text\n",
        "%%html\n",
        "<style>\n",
        "body {\n",
        "  background-color: #f2bcca;\n",
        "}\n",
        "</style>\n",
        "color = red #@param [\"red\", \"green\", \"blue\"] print(color)\n",
        "<svg xmlns=\"https://www.w3.org/2000/svg\" viewBox=\"0 0 600 400\" width=\"400\" height=\"400\">\n",
        "   <rect x=\"10\" y=\"00\" width=\"300\" height=\"100\" rx=\"0\" style=\"fill:orange; stroke:black; fill-opacity:1.0\" />\n",
        "   <rect x=\"10\" y=\"100\" width=\"300\" height=\"100\" rx=\"0\" style=\"fill:white; stroke:black; fill-opacity:1.0;\" />\n",
        "   <rect x=\"10\" y=\"200\" width=\"300\" height=\"100\" rx=\"0\" style=\"fill:green; stroke:black; fill-opacity:1.0;\" />\n",
        "</svg>\n",
        "\n"
      ],
      "metadata": {
        "colab": {
          "base_uri": "https://localhost:8080/",
          "height": 422
        },
        "id": "wjjRqd608tYh",
        "outputId": "9304f58a-e2b0-440d-a1a5-730f4ae9b2f6"
      },
      "execution_count": 38,
      "outputs": [
        {
          "output_type": "display_data",
          "data": {
            "text/plain": [
              "<IPython.core.display.HTML object>"
            ],
            "text/html": [
              "<style>\n",
              "body {\n",
              "  background-color: #f2bcca;\n",
              "}\n",
              "</style>\n",
              "color = red #@param [\"red\", \"green\", \"blue\"] print(color) \n",
              "<svg xmlns=\"https://www.w3.org/2000/svg\" viewBox=\"0 0 600 400\" width=\"400\" height=\"400\">\n",
              "   <rect x=\"10\" y=\"00\" width=\"300\" height=\"100\" rx=\"0\" style=\"fill:orange; stroke:black; fill-opacity:1.0\" />\n",
              "   <rect x=\"10\" y=\"100\" width=\"300\" height=\"100\" rx=\"0\" style=\"fill:white; stroke:black; fill-opacity:1.0;\" />\n",
              "   <rect x=\"10\" y=\"200\" width=\"300\" height=\"100\" rx=\"0\" style=\"fill:green; stroke:black; fill-opacity:1.0;\" />\n",
              "</svg>\n",
              "\n"
            ]
          },
          "metadata": {}
        }
      ]
    }
  ]
}