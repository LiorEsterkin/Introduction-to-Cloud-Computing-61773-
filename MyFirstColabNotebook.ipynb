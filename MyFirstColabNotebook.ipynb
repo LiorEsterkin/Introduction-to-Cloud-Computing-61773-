{
  "nbformat": 4,
  "nbformat_minor": 0,
  "metadata": {
    "colab": {
      "provenance": [],
      "authorship_tag": "ABX9TyPaTz845zoaL/iljbR+MVhu",
      "include_colab_link": true
    },
    "kernelspec": {
      "name": "python3",
      "display_name": "Python 3"
    },
    "language_info": {
      "name": "python"
    }
  },
  "cells": [
    {
      "cell_type": "markdown",
      "metadata": {
        "id": "view-in-github",
        "colab_type": "text"
      },
      "source": [
        "<a href=\"https://colab.research.google.com/github/LiorEsterkin/Introduction-to-Cloud-Computing-61773-/blob/main/MyFirstColabNotebook.ipynb\" target=\"_parent\"><img src=\"https://colab.research.google.com/assets/colab-badge.svg\" alt=\"Open In Colab\"/></a>"
      ]
    },
    {
      "cell_type": "markdown",
      "source": [
        "# **My First Colab Notebook**\n",
        "first notebook in Introduction to Cloud Computing course (NO. 61773)\n",
        "\n"
      ],
      "metadata": {
        "id": "SgRNZRzbxikQ"
      }
    },
    {
      "cell_type": "code",
      "execution_count": 3,
      "metadata": {
        "colab": {
          "base_uri": "https://localhost:8080/"
        },
        "id": "7j1my9GTwTqI",
        "outputId": "f81549b7-beba-4091-93ca-55ef1237da55"
      },
      "outputs": [
        {
          "output_type": "stream",
          "name": "stdout",
          "text": [
            "Wed Oct 29 07:05:11 2025\n"
          ]
        }
      ],
      "source": [
        "import time\n",
        "print(time.ctime())"
      ]
    },
    {
      "cell_type": "markdown",
      "source": [
        "## Second code cell"
      ],
      "metadata": {
        "id": "lb7o8lE-xzW2"
      }
    },
    {
      "cell_type": "code",
      "source": [
        "print(time.ctime())\n",
        "time.sleep(5)\n",
        "print(time.ctime())"
      ],
      "metadata": {
        "colab": {
          "base_uri": "https://localhost:8080/"
        },
        "id": "yC_fXa5vwafr",
        "outputId": "c663dfb7-f1f1-4b4c-f076-d766d995c1ab"
      },
      "execution_count": 4,
      "outputs": [
        {
          "output_type": "stream",
          "name": "stdout",
          "text": [
            "Wed Oct 29 07:05:11 2025\n",
            "Wed Oct 29 07:05:16 2025\n"
          ]
        }
      ]
    },
    {
      "cell_type": "code",
      "source": [
        "print(\"Hello, world!\")"
      ],
      "metadata": {
        "colab": {
          "base_uri": "https://localhost:8080/"
        },
        "id": "mwwmxqD1ymJ2",
        "outputId": "e0ef56a9-6d4d-4ba5-a2f0-5eac10943a63"
      },
      "execution_count": 5,
      "outputs": [
        {
          "output_type": "stream",
          "name": "stdout",
          "text": [
            "Hello, world!\n"
          ]
        }
      ]
    },
    {
      "cell_type": "markdown",
      "source": [
        "## Another code cell."
      ],
      "metadata": {
        "id": "XJHzXAsH0toy"
      }
    },
    {
      "cell_type": "code",
      "source": [
        "import numpy as np\n",
        "a = np.arange(0,10)\n",
        "print(\"a = \", a)\n",
        "b = np.zeros_like(a)\n",
        "print(\"b = \",b)"
      ],
      "metadata": {
        "colab": {
          "base_uri": "https://localhost:8080/"
        },
        "id": "A8lNHclczFBJ",
        "outputId": "aff78f4a-9a80-47d5-bc91-a522d5b5ca51"
      },
      "execution_count": 13,
      "outputs": [
        {
          "output_type": "stream",
          "name": "stdout",
          "text": [
            "a =  [0 1 2 3 4 5 6 7 8 9]\n",
            "b =  [0 0 0 0 0 0 0 0 0 0]\n"
          ]
        }
      ]
    },
    {
      "cell_type": "markdown",
      "source": [],
      "metadata": {
        "id": "mXgf_24G31a_"
      }
    },
    {
      "cell_type": "code",
      "source": [
        "from google.colab import drive\n",
        "drive.mount('/content/drive')"
      ],
      "metadata": {
        "colab": {
          "base_uri": "https://localhost:8080/"
        },
        "id": "7A0z1FlL1s_n",
        "outputId": "ddd92730-5a54-4de8-e7a8-db18b97ac05f"
      },
      "execution_count": 18,
      "outputs": [
        {
          "output_type": "stream",
          "name": "stdout",
          "text": [
            "Drive already mounted at /content/drive; to attempt to forcibly remount, call drive.mount(\"/content/drive\", force_remount=True).\n"
          ]
        }
      ]
    },
    {
      "cell_type": "code",
      "source": [
        "!ls \"/content/drive/My Drive/Colab Notebooks\""
      ],
      "metadata": {
        "colab": {
          "base_uri": "https://localhost:8080/"
        },
        "id": "jWD8--pf2p4-",
        "outputId": "2b8c856d-6ab3-4222-8e7b-5b9746d33fa4"
      },
      "execution_count": 17,
      "outputs": [
        {
          "output_type": "stream",
          "name": "stdout",
          "text": [
            "freecodecamp.ipynb\t    Untitled0.ipynb  Untitled2.ipynb\n",
            "MyFirstColabNotebook.ipynb  Untitled1.ipynb  Untitled3.ipynb\n"
          ]
        }
      ]
    }
  ]
}